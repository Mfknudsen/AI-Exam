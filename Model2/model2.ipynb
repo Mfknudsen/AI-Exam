{
 "cells": [
  {
   "cell_type": "code",
   "execution_count": 6,
   "metadata": {
    "collapsed": true
   },
   "outputs": [
    {
     "name": "stdout",
     "output_type": "stream",
     "text": [
      "WARNING:tensorflow:From C:\\Users\\krist\\AppData\\Local\\Programs\\Python\\Python312\\Lib\\site-packages\\tf2onnx\\tf_loader.py:68: The name tf.reset_default_graph is deprecated. Please use tf.compat.v1.reset_default_graph instead.\n",
      "\n",
      "WARNING:tensorflow:From C:\\Users\\krist\\AppData\\Local\\Programs\\Python\\Python312\\Lib\\site-packages\\tf2onnx\\tf_loader.py:72: The name tf.train.import_meta_graph is deprecated. Please use tf.compat.v1.train.import_meta_graph instead.\n",
      "\n"
     ]
    }
   ],
   "source": [
    "import tensorflow as tf\n",
    "from tensorflow.keras.models import load_model\n",
    "import tf2onnx"
   ]
  },
  {
   "cell_type": "code",
   "execution_count": 7,
   "outputs": [
    {
     "name": "stderr",
     "output_type": "stream",
     "text": [
      "WARNING:absl:Compiled the loaded model, but the compiled metrics have yet to be built. `model.compile_metrics` will be empty until you train or evaluate the model.\n"
     ]
    }
   ],
   "source": [
    "load_model = load_model('dogvscat.h5')"
   ],
   "metadata": {
    "collapsed": false
   }
  },
  {
   "cell_type": "code",
   "execution_count": 29,
   "outputs": [],
   "source": [
    "spec = (tf.TensorSpec((None, 64, 64, 3), tf.float32, name=\"input\"),)\n",
    "output_path = \"dogvscat\" + \".onnx\"\n",
    "output_names = ['output']\n",
    "load_model.output_names=output_names\n",
    "model_proto, _ = tf2onnx.convert.from_keras(load_model, input_signature=spec,  output_path=output_path)"
   ],
   "metadata": {
    "collapsed": false
   }
  },
  {
   "cell_type": "code",
   "execution_count": 35,
   "outputs": [
    {
     "name": "stdout",
     "output_type": "stream",
     "text": [
      "[array([[0.02579051, 0.96281016]], dtype=float32)]\n"
     ]
    },
    {
     "name": "stderr",
     "output_type": "stream",
     "text": [
      "<>:7: SyntaxWarning: invalid escape sequence '\\C'\n",
      "<>:7: SyntaxWarning: invalid escape sequence '\\C'\n",
      "C:\\Users\\krist\\AppData\\Local\\Temp\\ipykernel_31700\\3916686310.py:7: SyntaxWarning: invalid escape sequence '\\C'\n",
      "  img_path = \"Assignment4\\CNN\\\\train\\dog.603.jpg\"\n"
     ]
    }
   ],
   "source": [
    "import onnxruntime as rt\n",
    "from tensorflow.keras.preprocessing import image\n",
    "import numpy as np\n",
    "providers = ['CPUExecutionProvider']\n",
    "m = rt.InferenceSession(output_path, providers=providers)\n",
    "\n",
    "img_path = \"Assignment4\\CNN\\\\train\\dog.603.jpg\"\n",
    "img = image.load_img(img_path, target_size=(64, 64))\n",
    "# Preprocess the image\n",
    "img_array = image.img_to_array(img)\n",
    "img_array = img_array/255\n",
    "img_batch = np.expand_dims(img_array, axis=0)\n",
    "\n",
    "\n",
    "\n",
    "onnx_pred = m.run(output_names, {\"input\": img_batch})\n",
    "\n",
    "print(onnx_pred)\n",
    "\n"
   ],
   "metadata": {
    "collapsed": false
   }
  },
  {
   "cell_type": "code",
   "execution_count": null,
   "outputs": [],
   "source": [],
   "metadata": {
    "collapsed": false
   }
  }
 ],
 "metadata": {
  "kernelspec": {
   "display_name": "Python 3",
   "language": "python",
   "name": "python3"
  },
  "language_info": {
   "codemirror_mode": {
    "name": "ipython",
    "version": 2
   },
   "file_extension": ".py",
   "mimetype": "text/x-python",
   "name": "python",
   "nbconvert_exporter": "python",
   "pygments_lexer": "ipython2",
   "version": "2.7.6"
  }
 },
 "nbformat": 4,
 "nbformat_minor": 0
}
